{
  "cells": [
    {
      "cell_type": "markdown",
      "metadata": {
        "id": "bSnty_GSUwcp"
      },
      "source": [
        "# GEOG 412: Programming for Geospatial Data Science, Unit 2\n",
        "\n",
        "## Assignment 2: Working with Classes and Modules\n",
        "\n",
        "For this assignment, you will... \n",
        "\n",
        "*   Complete a series of five quick \"warm-up\" exercises designed to help you practice key techniques in foundational Python programming in a targeted manner (one point each);\n",
        "*   Complete a series of five documentation-reading exercises designed to help you hone your ability to learn more about Python syntax and logic from documentation (one point each);\n",
        "*   Complete one more complicated exercise that requires you to creatively apply what you have learned about the logic and syntax of Python programming in a less structured manner (ten points).\n",
        "\n",
        "Your code should be written directly within a copy of this notebook, and you should upload a copy of your notebook to the course website as you have done for previous assignments.\n",
        "\n",
        "**To begin, choose \"Save a copy in Drive\" from the File menu to create your own copy of this notebook.**"
      ]
    },
    {
      "cell_type": "markdown",
      "metadata": {
        "id": "KR-_ROSIVfC7"
      },
      "source": [
        "## Warm-Up Exercises\n",
        "\n",
        "Each one of these exercises will involve practicing specific elements of the core techniques of Python programming that are covered in this unit.  These exercises are designed to ensure that you are familiar with the building blocks of object-oriented programming (OOP) in Python, from both a logical and syntactical perspective."
      ]
    },
    {
      "cell_type": "markdown",
      "metadata": {
        "id": "l9nMloM8juC0"
      },
      "source": [
        "###Exercise 1\n",
        "\n",
        "Write classes defining coordinate-based point and line features.  Your point class should include a method to calculate the distance between two points, and your line class should include methods for (1) adding a point to the line, (2) removing a point from the line at a specific index, and (3) calculating the total length of the line.  The line class should define a line as a list of points.\n",
        "\n",
        "*Sound a lot like what is demonstrated in this week's videos?  It is!  Follow along with the demonstration and you'll have the solution for this exercise.*"
      ]
    },
    {
      "cell_type": "code",
      "execution_count": null,
      "metadata": {
        "colab": {
          "base_uri": "https://localhost:8080/"
        },
        "id": "nPQW9D7o2ZhV",
        "outputId": "3a9d1474-686e-44a4-b561-d45ad6fa0869"
      },
      "outputs": [
        {
          "name": "stdout",
          "output_type": "stream",
          "text": [
            "The length of the line created is: 9677.259729469128 ft!\n"
          ]
        }
      ],
      "source": [
        "from math import radians, cos, sin, asin, sqrt, degrees, pi, atan2\n",
        "\n",
        "def haversine(lat1, lon1, lat2, lon2):\n",
        "  lat1 = radians(lat1)\n",
        "  lon1 = radians(lon1)\n",
        "  lat2 = radians(lat2)\n",
        "  lon2 = radians(lon2)\n",
        "\n",
        "  d_lat = lat2 - lat1\n",
        "  d_lon = lon2 - lon1\n",
        "  d = sin(d_lat * 0.5) ** 2 + cos(lat1) * cos(lat2) * sin(d_lon * 0.5) ** 2\n",
        "  return 12742.0176 * asin(sqrt(d)) # distance in kilometers\n",
        "\n",
        "class Point:\n",
        "  #Class Properties\n",
        "  dimensions = 0\n",
        "  geom_type = 'Point'\n",
        "  #Constructor Method \n",
        "  def __init__(self,lon,lat):\n",
        "    #Instance properties \"will vary\"\n",
        "    self.lon = lon\n",
        "    self.lat = lat \n",
        "  #Class Methods\n",
        "  def distance_to_point(self,p):\n",
        "    return haversine(self.lat,self.lon,p.lat,p.lat)\n",
        "  def distance_to_lon_lat(self,lon,lat):\n",
        "    return haversine(self.lat,self.lon,lat,lon)\n",
        "\n",
        "Point1 = Point(-116.546131,33.823090)\n",
        "Point2 = Point(-115.8,34.2)\n",
        "\n",
        "class Line():\n",
        "   #Class properties\n",
        "   dimensions = 1 \n",
        "   geom_type = 'Line'\n",
        "\n",
        "   # Constructor method \n",
        "   #If user doesn't provide list of points upfront, can define with methods\n",
        "   def __init__(self,points):\n",
        "     self.vertices = points \n",
        "\n",
        "  #Class methods \n",
        "   def add_point(self,point):\n",
        "     self.vertices.append(point)\n",
        "    \n",
        "  \n",
        "   def remove_point(self,idx):\n",
        "     self.vertices.pop(idx)\n",
        "  \n",
        "   def length(self):\n",
        "     length = 0 \n",
        "     for i in range(0,len(self.vertices)):\n",
        "       length = length + self.vertices[i].distance_to_point(self.vertices[i+1])\n",
        "       return length \n",
        "\n",
        "\n",
        "#To do: create at least three Points and create a Line object from those Points\n",
        "# To do: test each of the class methods avaialble with your Line object\n",
        "\n",
        "baconlevel = Point(-120.290833,33.128611)\n",
        "ketchuptown = Point(-79.155278, 34.102222)\n",
        "points = [baconlevel, ketchuptown]\n",
        "line1 =Line([baconlevel,ketchuptown])\n",
        "hygiene = Point(-105.1776,40.1894)\n",
        "\n",
        "\n",
        "#line1 =  Line([baconlevel],[ketchuptown])\n",
        "line1.add_point(hygiene)\n",
        "line1.remove_point(0)\n",
        "\n",
        "print(\"The length of the line created is: {0} ft!\".format(line1.length()))"
      ]
    },
    {
      "cell_type": "markdown",
      "metadata": {
        "id": "iMiBfwVd2mjn"
      },
      "source": [
        "###Exercise 2\n",
        "\n",
        "Write a class that defines at least three class properties."
      ]
    },
    {
      "cell_type": "code",
      "execution_count": null,
      "metadata": {
        "colab": {
          "base_uri": "https://localhost:8080/"
        },
        "id": "3TfLdzzL2xWi",
        "outputId": "dc0242ed-4f88-4349-95cf-68c39bae01fd"
      },
      "outputs": [
        {
          "name": "stdout",
          "output_type": "stream",
          "text": [
            "You only have 150 Coins. You need to kill more monsters\n"
          ]
        }
      ],
      "source": [
        "# Code for exercise 2 goes here\n",
        "\n",
        "class Hero:\n",
        "  health = 100\n",
        "  attack = 10\n",
        "  money = 150\n",
        "  def __init__(self, health, attack, money):\n",
        "    self.health = health\n",
        "    self.attack = attack\n",
        "    self.money = money \n",
        "if Hero.money <= 150:\n",
        "  print(\"You only have {0} Coins. You need to kill more monsters\".format(Hero.money))\n",
        "\n",
        "\n"
      ]
    },
    {
      "cell_type": "markdown",
      "metadata": {
        "id": "OJle8tEf23Jz"
      },
      "source": [
        "###Exercise 3\n",
        "\n",
        "Write a different class that defines at least two class properties and two instance properties.  *(Keep in mind the difference between these two types of properties!)*"
      ]
    },
    {
      "cell_type": "code",
      "execution_count": null,
      "metadata": {
        "colab": {
          "base_uri": "https://localhost:8080/"
        },
        "id": "Tst-3ibl22Z4",
        "outputId": "81784099-8a2a-4b59-b607-33c7b8d07052"
      },
      "outputs": [
        {
          "name": "stdout",
          "output_type": "stream",
          "text": [
            "What's my species: ?blue\n",
            "What is my age: ?33\n"
          ]
        }
      ],
      "source": [
        "# Code for exercise 3 goes here\n",
        "class Prairie_Dog:\n",
        "  species = str(input(\"What's my species: ?\"))\n",
        "  age = int(input(\"What is my age: ?\"))\n",
        "  habitat = 'Grassland'\n",
        "  def __init__(self, species, age, habitat):\n",
        "    self.species = species \n",
        "    self.age = age \n",
        "    self.habitat = habitat\n",
        "    \n",
        " "
      ]
    },
    {
      "cell_type": "markdown",
      "metadata": {
        "id": "1wdd3vvf3SuW"
      },
      "source": [
        "###Exercise 4\n",
        "\n",
        "Expand upon the class you wrote for exercise 3 by adding at least two class methods that make use of instance properties."
      ]
    },
    {
      "cell_type": "code",
      "execution_count": null,
      "metadata": {
        "colab": {
          "base_uri": "https://localhost:8080/"
        },
        "id": "FcQ0Y5p23dR5",
        "outputId": "1b77d40c-919e-49e8-b334-063331b3896b"
      },
      "outputs": [
        {
          "name": "stdout",
          "output_type": "stream",
          "text": [
            "What age are you?33\n",
            "Im a prairie dog that barks; I am 33!\n",
            "What is my name?Vinny\n",
            "I am Vinny the italian prairie_dog!\n"
          ]
        }
      ],
      "source": [
        "# Code for exercise 4 goes here\n",
        "class Prairie_Dog:\n",
        "\n",
        "  def __init__(self):\n",
        "    self.name = name \n",
        "    self.age = age \n",
        "    self.habitat = habitat\n",
        "  \n",
        "  def bark():\n",
        "    age = int(input('What age are you?'))\n",
        "    if age > 5:\n",
        "      print(\"Im a prairie dog that barks; I am {0}!\".format(age))\n",
        "    else:\n",
        "      print(\"I am a young prairie dog who is {0}!\".format(age))\n",
        "  \n",
        "  def greeting():\n",
        "    name = str(input(\"What is my name?\"))\n",
        "    if name == \"John\":\n",
        "      print(\"I am {0} the prairie_dog!\".format(name))\n",
        "    elif name == \"Vinny\":\n",
        "      print(\"I am {0} the italian prairie_dog!\".format(name))\n",
        "    else:\n",
        "      print(\"Those aren't my names!\")\n",
        "\n",
        "\n",
        "    \n",
        "\n",
        "Prairie_Dog.bark()\n",
        "Prairie_Dog.greeting()\n"
      ]
    },
    {
      "cell_type": "markdown",
      "metadata": {
        "id": "dltOVd3q3_MP"
      },
      "source": [
        "###Exercise 5\n",
        "\n",
        "Write a class defining a right triangle.  The class should include three instance properties (the length of one leg (side A), the length of the other leg (side B), and the length of the hypotenuse (side C)).  The constructor method should include three parameters to allow users to enter the lengths of sides A, B, and C when instantiating the class -- and the constructor should be configured to calculate and store the length of the remaining side if only two side lengths are entered.\n",
        "\n",
        "For example, if you instantiated the class as follows (where None is a null value taking the place of the length of side C):\n",
        "\n",
        "```\n",
        "my_triangle = RightTriangle(1,1,None)\n",
        "```\n",
        "\n",
        "The constructor method should calculate that the length of side C is the square root of 2, and this should become accessible to the user as such:\n",
        "\n",
        "```\n",
        "print(my_triangle.a) # displays 1\n",
        "print(my_triangle.b) # displays 1\n",
        "print(my_triangle.c) # displays 1.4142...\n",
        "```\n",
        "\n",
        "**BONUS (not required):** Calculate the triangle's two acute angles as well and store them in instance properties!"
      ]
    },
    {
      "cell_type": "code",
      "execution_count": null,
      "metadata": {
        "colab": {
          "base_uri": "https://localhost:8080/"
        },
        "id": "GS8ZJkJm586P",
        "outputId": "1be5d53c-21c2-4e7f-f94b-7cfadbb29c4d"
      },
      "outputs": [
        {
          "name": "stdout",
          "output_type": "stream",
          "text": [
            "Pythagorean theorem calculator! Calculate your triangle sides.\n",
            "Assume the sides are a, b, c and c is the hypotenuse (the side opposite the right angle\n",
            "Which side (side_a, side_b, side_c) do you wish to calculate? side> a\n",
            "Input the length of side b: 33\n",
            "Input the length of side c: 99\n",
            "The length of side a is\n",
            "93.33809511662427\n"
          ]
        }
      ],
      "source": [
        "# Code for exercise 5 goes here\n",
        "#Author Ryan M \n",
        "from math import sqrt\n",
        "print('Pythagorean theorem calculator! Calculate your triangle sides.')\n",
        "print('Assume the sides are a, b, c and c is the hypotenuse (the side opposite the right angle')\n",
        "class right_triangle:\n",
        "\n",
        "  def __init__(self,side_a,side_b,side_c,forumla):\n",
        "    self.side_a = side_a\n",
        "    self.side_b = side_b\n",
        "    self.side_c = side_c\n",
        "    self.formula = formula\n",
        "\n",
        "#Prints side of User Defined Trianles\n",
        " \n",
        "formula = input('Which side (side_a, side_b, side_c) do you wish to calculate? side> ')\n",
        "\n",
        "if formula == 'side_c':\n",
        "\n",
        "\t    side_b =  input(\"Enter side_b of Right Triangle!\")\n",
        "\t    side_a= input(\"Enter side_c of Right Triangle!\")\n",
        "\t\n",
        "\t    side_c = sqrt(side_a * side_a + side_b * side_b)\n",
        "\t    \n",
        "\t    print('The length of side c is: ' )\n",
        "\t    print(side_c)\n",
        "elif formula == 'a':\n",
        "    side_b = int(input('Input the length of side b: '))\n",
        "    side_c = int(input('Input the length of side c: '))\n",
        "    \n",
        "    side_a = sqrt((side_c * side_c) - (side_b * side_b))\n",
        "    \n",
        "    print('The length of side a is' )\n",
        "    print(side_a)\n",
        "\n",
        "elif formula == 'b':\n",
        "    side_a = int(input('Input the length of side a: '))\n",
        "    side_b = int(input('Input the length of side c: '))\n",
        "        \n",
        "    side_c = sqrt(side_c * side_c - side_a * side_a)\n",
        "    \n",
        "    print('The length of side b is')\n",
        "    print(side_c)\n",
        "\n",
        "\n",
        "else:\n",
        "  print('Please select a side between a, b, c')\n",
        "\n",
        "# right_triangle.side_a =  input(\"Enter side_a of Right Triangle!\")\n",
        "# right_triangle.side_b =  input(\"Enter side_b of Right Triangle!\")\n",
        "# right_triangle.side_c= input(\"Enter side_c of Right Triangle!\")\n",
        "# print(\"My side_a is: {0}Ft!\".format(side_a))\n",
        "# print(\"My side_b is: {0}Ft!\".format(side_b))\n",
        "# print(\"My side_c is: {0}Ft!\".format(side_c))\n",
        "    #if side_c == None:\n",
        "      #print(\"There is no value in here for side_c!\")\n",
        "   # else:\n",
        "     # print(\"My side_c is {0} ft long!\".format(my_triangle1.side_c))\n",
        "   #   pass\n",
        "\n",
        "\n",
        "\n",
        "    #if side_c == None:\n",
        "    #  side_c = (side_a ** 2) + (side_b ** 2)\n",
        "    #return side_a ** 2 + side_b ** 24\n",
        "\n",
        "  \n",
        " # def find_sideof_triangle(side_a,side_b,_side_c):\n",
        "   #side_a = input(\"Enter a number for side_a:\")\n",
        "  # print(right_triangle.side_a)\n",
        "\n",
        "#right_triangle.find_sideof_triangle(33.4,33.5,None)    \n",
        "#  find_sideof_triangle(44,33,88)\n"
      ]
    },
    {
      "cell_type": "markdown",
      "metadata": {
        "id": "82DeFF4m6Az5"
      },
      "source": [
        "## Documentation Exercises\n",
        "\n",
        "Each one of these exercises involve using Python module documentation to answer simple questions about the functions and classes available within different Python modules.  Refer to the linked documentation pages for each exercise."
      ]
    },
    {
      "cell_type": "markdown",
      "metadata": {
        "id": "8RwQMAnD6Ze1"
      },
      "source": [
        "###Documentation Exercise 1\n",
        "\n",
        "Create a Series using [***pandas*** (documentation linked)](https://pandas.pydata.org/docs/user_guide/10min.html) from a list of at least three numeric literals."
      ]
    },
    {
      "cell_type": "code",
      "execution_count": null,
      "metadata": {
        "colab": {
          "base_uri": "https://localhost:8080/"
        },
        "id": "r-mcSBgE6mNj",
        "outputId": "06780fc5-09a1-4cfa-a77a-df05047f8b2d"
      },
      "outputs": [
        {
          "data": {
            "text/plain": [
              "0       1\n",
              "1       3\n",
              "2       4\n",
              "3    taco\n",
              "4      55\n",
              "dtype: object"
            ]
          },
          "execution_count": 17,
          "metadata": {},
          "output_type": "execute_result"
        }
      ],
      "source": [
        "# Code for documentation exercise 1 goes here\n",
        "import pandas as pd\n",
        "\n",
        "series = pd.Series([1, 3, 4, \"taco\", 55])\n",
        "series"
      ]
    },
    {
      "cell_type": "markdown",
      "metadata": {
        "id": "0Mw433Z565J5"
      },
      "source": [
        "###Documentation Exercise 2\n",
        "\n",
        "Using the [***math*** module (documentation linked)](https://docs.python.org/3/library/math.html), calculate the inverse hyperbolic cosine of pi."
      ]
    },
    {
      "cell_type": "code",
      "execution_count": null,
      "metadata": {
        "colab": {
          "base_uri": "https://localhost:8080/"
        },
        "id": "Aw_nVheX7aFP",
        "outputId": "53f9f898-7520-481c-d946-f58731bd55d7"
      },
      "outputs": [
        {
          "data": {
            "text/plain": [
              "1.811526272460853"
            ]
          },
          "execution_count": 18,
          "metadata": {},
          "output_type": "execute_result"
        }
      ],
      "source": [
        "# Code for documentation exercise 2 goes here\n",
        "#Author Ryan Magowan\n",
        "import math \n",
        "math.acosh(math.pi)"
      ]
    },
    {
      "cell_type": "markdown",
      "metadata": {
        "id": "UGoUtHOwCR1M"
      },
      "source": [
        "###Documentation Exercise 3\n",
        "\n",
        "Using the [***requests*** module (documentation linked)](https://docs.python-requests.org/en/latest/), execute an invalid HTTP request (i.e., for a website that doesn't exist) and display its status code (should be 404)."
      ]
    },
    {
      "cell_type": "code",
      "execution_count": null,
      "metadata": {
        "colab": {
          "base_uri": "https://localhost:8080/"
        },
        "id": "M-L7fcPjDIGD",
        "outputId": "4f47fce4-99ca-4716-f9ed-49bb9f60b0c0"
      },
      "outputs": [
        {
          "name": "stdout",
          "output_type": "stream",
          "text": [
            "<Response [404]>\n"
          ]
        }
      ],
      "source": [
        "# Code for documentation exercise 3 goes here\n",
        "import requests\n",
        "url = 'https://httpbin.org/status/404'\n",
        "re = requests.get(url)\n",
        "print(re)"
      ]
    },
    {
      "cell_type": "markdown",
      "metadata": {
        "id": "kGebnDU1DOju"
      },
      "source": [
        "###Documentation Exercise 4\n",
        "\n",
        "Using the [Array class within the ***numpy*** module (documentation linked)](https://numpy.org/doc/stable/reference/generated/numpy.array.html), create a two-dimensional array."
      ]
    },
    {
      "cell_type": "code",
      "execution_count": null,
      "metadata": {
        "colab": {
          "base_uri": "https://localhost:8080/"
        },
        "id": "3uJcFgn4Dd4O",
        "outputId": "c4a42a04-48af-4aee-9206-d0ed9e3c939f"
      },
      "outputs": [
        {
          "data": {
            "text/plain": [
              "array([[ 1. ,  4. ],\n",
              "       [ 2.5, 88. ]])"
            ]
          },
          "execution_count": 24,
          "metadata": {},
          "output_type": "execute_result"
        }
      ],
      "source": [
        "# Code for documentation exercise 4 goes here\n",
        "import numpy as np\n",
        "\n",
        "np.array([[1,4],[2.5,88]])"
      ]
    },
    {
      "cell_type": "markdown",
      "metadata": {
        "id": "W7EfXmfsDmid"
      },
      "source": [
        "###Documentation Exercise 5\n",
        "\n",
        "Using the documentation for the [***scipy*** module (documentation linked)](https://scipy.github.io/devdocs/index.html), what would be the appropriate command for installing the module using *pip*?\n",
        "\n",
        "*(Make sure to preface the command with a \"!\" so that it executes properly in Colab!)*"
      ]
    },
    {
      "cell_type": "code",
      "execution_count": null,
      "metadata": {
        "colab": {
          "base_uri": "https://localhost:8080/"
        },
        "id": "n_zNlsidEJPM",
        "outputId": "07fd5527-130e-4270-fbdb-7db6b25c667e"
      },
      "outputs": [
        {
          "name": "stdout",
          "output_type": "stream",
          "text": [
            "Requirement already satisfied: scipy in /usr/local/lib/python3.7/dist-packages (1.4.1)\n",
            "Requirement already satisfied: numpy>=1.13.3 in /usr/local/lib/python3.7/dist-packages (from scipy) (1.19.5)\n"
          ]
        }
      ],
      "source": [
        "# Code for documentation exercise 5 goes here\n",
        "!pip install scipy"
      ]
    },
    {
      "cell_type": "markdown",
      "metadata": {
        "id": "jjhwlEhMVob2"
      },
      "source": [
        "##Python Programming Challenge\n",
        "\n",
        "This challenging exercise is designed to put your new Python programming skills to the test.  As you complete this exercise you will need to carefully think about not only the specific techniques that you will need to use to write code that meets the requirements of the challenges, but also the logical sequences and control flow that are required in order for your script to function properly.  Don't be afraid to get creative, and make sure to test your script thoroughly before submitting."
      ]
    },
    {
      "cell_type": "markdown",
      "metadata": {
        "id": "wUIO2T84WEkw"
      },
      "source": [
        "###Location Guessing Game\n",
        "\n",
        "For this week's assignment, we will continue with the theme of games that involve guessing.  Specifically, you will develop a game wherein players will guess the latitude/longitude locations of ten randomly selected cities, towns, and census-designated places (CDPs) throughout the United States.  It is a simple game with a geospatial orientation that is surprisingly fun and challenging, as earning a great score requires considerable knowledge of U.S. geography.\n",
        "\n",
        "In this one-player game, low scores are better: the player's score for any given game is the average distance of their guessed locations from the correct locations.\n",
        "\n",
        "A GeoPackage containing the point centroids of cities/towns/CDPs is provided for download on the course website.  It needs to be uploaded to your Colab drive in order for it to be loaded into your game.\n",
        "\n",
        "Following are general requirements for the flow of gameplay:\n",
        "\n",
        "*   The player should be prompted to enter their name.\n",
        "*   Gameplay begins with the user being shown the name of a random city/town/CDP from the TIGER/Line places dataset.  The player should then be prompted to guess the place's latitude and longitude.\n",
        "*   The distance (geodesic, not planar) between the guessed location and the selected feature should be calculated, and the player should be informed of this distance.  You may make use of the haversine formula code that was used in one of this week's demonstrations.\n",
        "*   The player's score (the average distance of guessed locations from the correct locations throughout the game) should then be displayed, and the game should be repeated with additional unique places for a total of ten rounds.\n",
        "\n",
        "Following are several technical and procedural requirements for the game: \n",
        "*   The game must be written primarily as a class.\n",
        "*   Game data should be stored in instance properties.  The following properties are required (at a minimum):\n",
        "  * Player name \n",
        "  * The distances calculated each turn (store as a list)\n",
        "  * Ten random cities/towns/CDPs sampled from the TIGER/Line places dataset (store as a list)\n",
        "*   All interactions with the game, and all essential game procedures, should be written within class methods.  The following methods are required (at a minimum):\n",
        "  * A constructor method that prepares the game by sampling ten random features from the TIGER/Line places dataset\n",
        "  * A method that starts gameplay and contains the majority of the game logic\n",
        "  * A method that calculates the player's score by finding the average (mean) of the calculated distances\n",
        "  * A method that calculates how many turns the player has taken\n",
        "\n",
        "As you proceed with developing this game, take care to ensure that you are not storing data in a redundant manner.  For example, there is no need to create an instance property for the number of turns that have been taken when it is possible jusst to count the number of distances that have been added to the required list.  Nor do you need to store the user's score separately when a method can be written to calculate score."
      ]
    },
    {
      "cell_type": "code",
      "execution_count": null,
      "metadata": {
        "colab": {
          "base_uri": "https://localhost:8080/"
        },
        "id": "S8nvQBdeeXd5",
        "outputId": "6e84a0ce-c5fc-4d4f-84df-eb2506f8e571"
      },
      "outputs": [
        {
          "output_type": "stream",
          "name": "stdout",
          "text": [
            "Collecting geopandas\n",
            "  Downloading geopandas-0.10.2-py2.py3-none-any.whl (1.0 MB)\n",
            "\u001b[K     |████████████████████████████████| 1.0 MB 10.2 MB/s \n",
            "\u001b[?25hCollecting pyproj>=2.2.0\n",
            "  Downloading pyproj-3.2.1-cp37-cp37m-manylinux2010_x86_64.whl (6.3 MB)\n",
            "\u001b[K     |████████████████████████████████| 6.3 MB 51.7 MB/s \n",
            "\u001b[?25hCollecting fiona>=1.8\n",
            "  Downloading Fiona-1.8.21-cp37-cp37m-manylinux2014_x86_64.whl (16.7 MB)\n",
            "\u001b[K     |████████████████████████████████| 16.7 MB 278 kB/s \n",
            "\u001b[?25hRequirement already satisfied: pandas>=0.25.0 in /usr/local/lib/python3.7/dist-packages (from geopandas) (1.3.5)\n",
            "Requirement already satisfied: shapely>=1.6 in /usr/local/lib/python3.7/dist-packages (from geopandas) (1.8.1.post1)\n",
            "Collecting munch\n",
            "  Downloading munch-2.5.0-py2.py3-none-any.whl (10 kB)\n",
            "Requirement already satisfied: certifi in /usr/local/lib/python3.7/dist-packages (from fiona>=1.8->geopandas) (2021.10.8)\n",
            "Requirement already satisfied: setuptools in /usr/local/lib/python3.7/dist-packages (from fiona>=1.8->geopandas) (57.4.0)\n",
            "Collecting cligj>=0.5\n",
            "  Downloading cligj-0.7.2-py3-none-any.whl (7.1 kB)\n",
            "Requirement already satisfied: attrs>=17 in /usr/local/lib/python3.7/dist-packages (from fiona>=1.8->geopandas) (21.4.0)\n",
            "Requirement already satisfied: click>=4.0 in /usr/local/lib/python3.7/dist-packages (from fiona>=1.8->geopandas) (7.1.2)\n",
            "Collecting click-plugins>=1.0\n",
            "  Downloading click_plugins-1.1.1-py2.py3-none-any.whl (7.5 kB)\n",
            "Requirement already satisfied: six>=1.7 in /usr/local/lib/python3.7/dist-packages (from fiona>=1.8->geopandas) (1.15.0)\n",
            "Requirement already satisfied: pytz>=2017.3 in /usr/local/lib/python3.7/dist-packages (from pandas>=0.25.0->geopandas) (2018.9)\n",
            "Requirement already satisfied: numpy>=1.17.3 in /usr/local/lib/python3.7/dist-packages (from pandas>=0.25.0->geopandas) (1.21.5)\n",
            "Requirement already satisfied: python-dateutil>=2.7.3 in /usr/local/lib/python3.7/dist-packages (from pandas>=0.25.0->geopandas) (2.8.2)\n",
            "Installing collected packages: munch, cligj, click-plugins, pyproj, fiona, geopandas\n",
            "Successfully installed click-plugins-1.1.1 cligj-0.7.2 fiona-1.8.21 geopandas-0.10.2 munch-2.5.0 pyproj-3.2.1\n"
          ]
        }
      ],
      "source": [
        "!pip install geopandas"
      ]
    },
    {
      "cell_type": "code",
      "execution_count": null,
      "metadata": {
        "colab": {
          "base_uri": "https://localhost:8080/",
          "height": 775
        },
        "id": "kiHhfComiAZG",
        "outputId": "9939cb22-a997-40c9-97bd-31feaf6b1dcc"
      },
      "outputs": [
        {
          "name": "stdout",
          "output_type": "stream",
          "text": [
            "Requirement already satisfied: geopandas in /usr/local/lib/python3.7/dist-packages (0.10.2)\n",
            "Requirement already satisfied: pandas>=0.25.0 in /usr/local/lib/python3.7/dist-packages (from geopandas) (1.1.5)\n",
            "Requirement already satisfied: fiona>=1.8 in /usr/local/lib/python3.7/dist-packages (from geopandas) (1.8.20)\n",
            "Requirement already satisfied: shapely>=1.6 in /usr/local/lib/python3.7/dist-packages (from geopandas) (1.8.0)\n",
            "Requirement already satisfied: pyproj>=2.2.0 in /usr/local/lib/python3.7/dist-packages (from geopandas) (3.2.1)\n",
            "Requirement already satisfied: click-plugins>=1.0 in /usr/local/lib/python3.7/dist-packages (from fiona>=1.8->geopandas) (1.1.1)\n",
            "Requirement already satisfied: munch in /usr/local/lib/python3.7/dist-packages (from fiona>=1.8->geopandas) (2.5.0)\n",
            "Requirement already satisfied: six>=1.7 in /usr/local/lib/python3.7/dist-packages (from fiona>=1.8->geopandas) (1.15.0)\n",
            "Requirement already satisfied: click>=4.0 in /usr/local/lib/python3.7/dist-packages (from fiona>=1.8->geopandas) (7.1.2)\n",
            "Requirement already satisfied: cligj>=0.5 in /usr/local/lib/python3.7/dist-packages (from fiona>=1.8->geopandas) (0.7.2)\n",
            "Requirement already satisfied: setuptools in /usr/local/lib/python3.7/dist-packages (from fiona>=1.8->geopandas) (57.4.0)\n",
            "Requirement already satisfied: certifi in /usr/local/lib/python3.7/dist-packages (from fiona>=1.8->geopandas) (2021.10.8)\n",
            "Requirement already satisfied: attrs>=17 in /usr/local/lib/python3.7/dist-packages (from fiona>=1.8->geopandas) (21.4.0)\n",
            "Requirement already satisfied: pytz>=2017.2 in /usr/local/lib/python3.7/dist-packages (from pandas>=0.25.0->geopandas) (2018.9)\n",
            "Requirement already satisfied: python-dateutil>=2.7.3 in /usr/local/lib/python3.7/dist-packages (from pandas>=0.25.0->geopandas) (2.8.2)\n",
            "Requirement already satisfied: numpy>=1.15.4 in /usr/local/lib/python3.7/dist-packages (from pandas>=0.25.0->geopandas) (1.19.5)\n",
            "Drive already mounted at /content/drive; to attempt to forcibly remount, call drive.mount(\"/content/drive\", force_remount=True).\n",
            "What is your name: .Ryan\n",
            "Hello Ryan. Let's Play the Geofindergame!\n",
            "This is round 1!\n",
            "Wixom city\n",
            "MI\n",
            "What is your lat/long Guess?69.44 -69,99\n"
          ]
        },
        {
          "output_type": "error",
          "ename": "ValueError",
          "evalue": "ignored",
          "traceback": [
            "\u001b[0;31m---------------------------------------------------------------------------\u001b[0m",
            "\u001b[0;31mValueError\u001b[0m                                Traceback (most recent call last)",
            "\u001b[0;32m<ipython-input-3-8d5afa8346f8>\u001b[0m in \u001b[0;36m<module>\u001b[0;34m()\u001b[0m\n\u001b[1;32m     65\u001b[0m       \u001b[0;31m#Prints Average score from distances after each round\u001b[0m\u001b[0;34m\u001b[0m\u001b[0;34m\u001b[0m\u001b[0;34m\u001b[0m\u001b[0m\n\u001b[1;32m     66\u001b[0m \u001b[0;34m\u001b[0m\u001b[0m\n\u001b[0;32m---> 67\u001b[0;31m \u001b[0mGeofindergame\u001b[0m\u001b[0;34m(\u001b[0m\u001b[0;34m)\u001b[0m\u001b[0;34m\u001b[0m\u001b[0;34m\u001b[0m\u001b[0m\n\u001b[0m\u001b[1;32m     68\u001b[0m \u001b[0mprint\u001b[0m\u001b[0;34m(\u001b[0m\u001b[0;34m\"/n Script Complete! Thanks for Playing {0}!\"\u001b[0m\u001b[0;34m.\u001b[0m\u001b[0mformat\u001b[0m\u001b[0;34m(\u001b[0m\u001b[0mself\u001b[0m\u001b[0;34m.\u001b[0m\u001b[0mname\u001b[0m\u001b[0;34m)\u001b[0m\u001b[0;34m)\u001b[0m\u001b[0;34m\u001b[0m\u001b[0;34m\u001b[0m\u001b[0m\n\u001b[1;32m     69\u001b[0m \u001b[0;34m\u001b[0m\u001b[0m\n",
            "\u001b[0;32m<ipython-input-3-8d5afa8346f8>\u001b[0m in \u001b[0;36m__init__\u001b[0;34m(self)\u001b[0m\n\u001b[1;32m     51\u001b[0m       \u001b[0mprint\u001b[0m\u001b[0;34m(\u001b[0m\u001b[0mlocation\u001b[0m\u001b[0;34m[\u001b[0m\u001b[0;34m\"STUSPS\"\u001b[0m\u001b[0;34m]\u001b[0m\u001b[0;34m)\u001b[0m\u001b[0;34m\u001b[0m\u001b[0;34m\u001b[0m\u001b[0m\n\u001b[1;32m     52\u001b[0m       \u001b[0mlat\u001b[0m\u001b[0;34m,\u001b[0m\u001b[0mlon\u001b[0m \u001b[0;34m=\u001b[0m\u001b[0;34m(\u001b[0m\u001b[0minput\u001b[0m\u001b[0;34m(\u001b[0m\u001b[0;34m\"What is your lat/long Guess?\"\u001b[0m\u001b[0;34m)\u001b[0m\u001b[0;34m)\u001b[0m\u001b[0;34m.\u001b[0m\u001b[0msplit\u001b[0m\u001b[0;34m(\u001b[0m\u001b[0;34m)\u001b[0m\u001b[0;34m\u001b[0m\u001b[0;34m\u001b[0m\u001b[0m\n\u001b[0;32m---> 53\u001b[0;31m       \u001b[0mx\u001b[0m \u001b[0;34m=\u001b[0m \u001b[0mfloat\u001b[0m\u001b[0;34m(\u001b[0m\u001b[0mlon\u001b[0m\u001b[0;34m)\u001b[0m\u001b[0;34m\u001b[0m\u001b[0;34m\u001b[0m\u001b[0m\n\u001b[0m\u001b[1;32m     54\u001b[0m       \u001b[0my\u001b[0m \u001b[0;34m=\u001b[0m \u001b[0mfloat\u001b[0m\u001b[0;34m(\u001b[0m\u001b[0mlat\u001b[0m\u001b[0;34m)\u001b[0m\u001b[0;34m\u001b[0m\u001b[0;34m\u001b[0m\u001b[0m\n\u001b[1;32m     55\u001b[0m       \u001b[0mprint\u001b[0m\u001b[0;34m(\u001b[0m\u001b[0;34m\"Your Lat Guess is {0}\"\u001b[0m\u001b[0;34m.\u001b[0m\u001b[0mformat\u001b[0m\u001b[0;34m(\u001b[0m\u001b[0mx\u001b[0m\u001b[0;34m)\u001b[0m\u001b[0;34m)\u001b[0m\u001b[0;34m\u001b[0m\u001b[0;34m\u001b[0m\u001b[0m\n",
            "\u001b[0;31mValueError\u001b[0m: could not convert string to float: '-69,99'"
          ]
        }
      ],
      "source": [
        "#Author: Ryan Magowan\n",
        "#Class: UCLA 412\n",
        "#Teacher: Dr. Sierra Burkhart\n",
        "#Date 1/28/22\n",
        "\n",
        "# Code for challenge exercise goes here\n",
        "\n",
        "#import modules needed for script(install geopandas in seperate cell)\n",
        "#import tl21_places.gpkg into google colab's file directory GUI unless you find another way.\n",
        "!pip install geopandas\n",
        "from google.colab import drive \n",
        "drive.mount('/content/drive')\n",
        "import geopandas as gpd\n",
        "import math as math \n",
        "import numpy as np\n",
        "\n",
        "\n",
        "#Define Haversine function outside of classes to be implemented in Point Class\n",
        "def haversine(lat1, lon1, lat2, lon2):\n",
        "  lat1 = math.radians(lat1)\n",
        "  lon1 = math.radians(lon1)\n",
        "  lat2 = math.radians(lat2)\n",
        "  lon2 = math.radians(lon2)\n",
        "\n",
        "  d_lat = lat2 - lat1\n",
        "  d_lon = lon2 - lon1\n",
        "  d = math.sin(d_lat * 0.5) ** 2 + math.cos(lat1) * math.cos(lat2) * math.sin(d_lon * 0.5) ** 2\n",
        "  return 12742.0176 * math.asin(math.sqrt(d)) # distance in kilometers\n",
        "\n",
        "#Main Class that moves game along to each new round\n",
        "#TO DO:  \n",
        "class Geofindergame:\n",
        " \n",
        "#Create init method \n",
        "  def __init__(self):\n",
        "    self.name =str(input(\"What is your name: .\"))\n",
        "    greeting = print(\"Hello {0}. Let's Play the Geofindergame!\".format(self.name))\n",
        "    places = gpd.read_file('tl21_places.gpkg')\n",
        "    self.sample = places.sample(n=10)\n",
        "    count = 0 \n",
        "    for index, location in self.sample.iterrows():\n",
        "      count += 1\n",
        "      if count < 10:\n",
        "        print(\"This is round {0}!\".format(count))\n",
        "      else:\n",
        "        print(\"The game is over!\")\n",
        "        print(\"/n Script Complete! Thanks for Playing {0}!\".format(self.name))\n",
        "        break\n",
        "      print(location[\"NAMELSAD\"])\n",
        "      print(location[\"STUSPS\"])\n",
        "      lat,lon =(input(\"What is your lat/long Guess?\")).split()\n",
        "      x = float(lon)\n",
        "      y = float(lat)\n",
        "      print(\"Your Lat Guess is {0}\".format(x))\n",
        "      print(\"Your Lon Guess is {0}\".format(y))\n",
        "      #How to tell user this is their guess for round each round? An index? \n",
        "      distance = haversine(x,y,location[\"geometry\"].y,location[\"geometry\"].x) \n",
        "      print(\"The distance between your point guessed and the point sampled is {0:,} Kilometers!\".format(distance))\n",
        "      sum = distance\n",
        "      if sum == distance:\n",
        "        sum2 = float(math.trunc(sum + distance) / 100)\n",
        "        print(\"Your Average score for this round {0} feet in Kilometers!\".format(math.trunc(sum2)))\n",
        "      #Prints Average score from distances after each round \n",
        "  \n",
        "Geofindergame()\n",
        "print(\"/n Script Complete! Thanks for Playing {0}!\".format(self.name))\n",
        "\n",
        "\n"
      ]
    },
    {
      "cell_type": "code",
      "execution_count": null,
      "metadata": {
        "id": "gEGgBAAkdSlr"
      },
      "outputs": [],
      "source": [
        "from google.colab import drive\n",
        "drive.mount('/content/drive')"
      ]
    }
  ],
  "metadata": {
    "colab": {
      "collapsed_sections": [],
      "name": "Ryan Magowan GEOG412_unit2_assignment.ipynb",
      "provenance": []
    },
    "kernelspec": {
      "display_name": "Python 3",
      "name": "python3"
    },
    "language_info": {
      "name": "python"
    }
  },
  "nbformat": 4,
  "nbformat_minor": 0
}